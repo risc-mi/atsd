{
 "cells": [
  {
   "cell_type": "markdown",
   "metadata": {},
   "source": [
    "# Applying Trained Traffic Sign Classifiers"
   ]
  },
  {
   "cell_type": "markdown",
   "metadata": {},
   "source": [
    "---"
   ]
  },
  {
   "cell_type": "markdown",
   "metadata": {},
   "source": [
    "This notebook is part of https://github.com/risc-mi/atsd."
   ]
  },
  {
   "cell_type": "markdown",
   "metadata": {},
   "source": [
    "This notebook demonstrates how pre-trained traffic sign classifiers, as presented in our accompanying paper, can be applied to traffic sign images from [ATSD-Signs](https://contentportal.asfinag.at/traffic-sign-catalogue) or other data sets."
   ]
  },
  {
   "cell_type": "markdown",
   "metadata": {},
   "source": [
    "## Package Imports"
   ]
  },
  {
   "cell_type": "code",
   "execution_count": 1,
   "metadata": {},
   "outputs": [],
   "source": [
    "from pathlib import Path\n",
    "import json\n",
    "import numpy as np\n",
    "from matplotlib import pyplot as plt\n",
    "from tensorflow.keras import layers, models\n",
    "from skimage import transform\n",
    "from skimage.io import imread"
   ]
  },
  {
   "cell_type": "markdown",
   "metadata": {},
   "source": [
    "## Paths"
   ]
  },
  {
   "cell_type": "markdown",
   "metadata": {},
   "source": [
    "Set `ROOT` to the path to the directory where ATSD-Signs is located. This is the directory containing folders `\"/train\"` and `\"/test\"`."
   ]
  },
  {
   "cell_type": "code",
   "execution_count": 2,
   "metadata": {},
   "outputs": [],
   "source": [
    "ROOT = Path('path/to/atsd-signs')"
   ]
  },
  {
   "cell_type": "markdown",
   "metadata": {},
   "source": [
    "## Network Architecture"
   ]
  },
  {
   "cell_type": "markdown",
   "metadata": {},
   "source": [
    "We use the network architecture proposed by [Li and Wang](https://github.com/hellojialee/Traffic_Sign_Recognition_Efficient_CNNs/blob/master/Classification/Classifer_for_Traffic_sign.ipynb):"
   ]
  },
  {
   "cell_type": "code",
   "execution_count": 3,
   "metadata": {},
   "outputs": [],
   "source": [
    "def conv_block(x, filters: int, kernel: tuple):\n",
    "    x = layers.Conv2D(filters, kernel, padding='same', kernel_initializer='he_normal')(x)\n",
    "    x = layers.BatchNormalization(epsilon=1e-06, axis=3)(x)\n",
    "    return layers.Activation('relu')(x)\n",
    "\n",
    "\n",
    "def li_wang_network(input_shape: tuple = (48, 48, 3), n_classes: int = 60) -> models.Model:\n",
    "    x = layers.Input(shape=input_shape)\n",
    "\n",
    "    # first block\n",
    "    x0 = conv_block(x, 32, (3, 3))\n",
    "    x0 = conv_block(x0, 48, (7, 1))\n",
    "    x0 = conv_block(x0, 48, (1, 7))\n",
    "    x0 = layers.MaxPooling2D(pool_size=(2, 2))(x0)\n",
    "    x0 = layers.Dropout(0.2)(x0)\n",
    "\n",
    "    # second block (two parallel branches)\n",
    "    x1 = conv_block(x0, 64, (3, 1))\n",
    "    x1 = conv_block(x1, 64, (1, 3))\n",
    "\n",
    "    x2 = conv_block(x0, 64, (1, 7))\n",
    "    x2 = conv_block(x2, 64, (7, 1))\n",
    "\n",
    "    y = layers.Concatenate(axis=-1)([x1, x2])\n",
    "    y = layers.MaxPooling2D(pool_size=(2, 2))(y)\n",
    "    y = layers.Dropout(0.2)(y)\n",
    "\n",
    "    # third block\n",
    "    y = conv_block(y, 128, (3, 3))\n",
    "    y = conv_block(y, 256, (3, 3))\n",
    "    y = layers.MaxPooling2D(pool_size=(2, 2))(y)\n",
    "    y = layers.Dropout(0.3)(y)\n",
    "\n",
    "    # fourth block\n",
    "    y = layers.Flatten()(y)\n",
    "    y = layers.Dense(256, kernel_initializer='he_normal')(y)\n",
    "    y = layers.BatchNormalization()(y)\n",
    "    y = layers.Activation('relu')(y)\n",
    "    y = layers.Dropout(0.4)(y)\n",
    "\n",
    "    # classification head\n",
    "    y = layers.Dense(n_classes, activation='softmax', kernel_initializer='he_normal')(y)\n",
    "\n",
    "    return models.Model(x, y)"
   ]
  },
  {
   "cell_type": "markdown",
   "metadata": {},
   "source": [
    "Initialize the neural net:"
   ]
  },
  {
   "cell_type": "code",
   "execution_count": 4,
   "metadata": {},
   "outputs": [],
   "source": [
    "model = li_wang_network()"
   ]
  },
  {
   "cell_type": "markdown",
   "metadata": {},
   "source": [
    "Load trained weights; see `\"/weights/classification/README.md\"` for information about the different versions:"
   ]
  },
  {
   "cell_type": "code",
   "execution_count": 5,
   "metadata": {},
   "outputs": [],
   "source": [
    "model_version = 'v7'"
   ]
  },
  {
   "cell_type": "code",
   "execution_count": 6,
   "metadata": {},
   "outputs": [],
   "source": [
    "model.load_weights(f'weights/classification/{model_version}.h5')"
   ]
  },
  {
   "cell_type": "markdown",
   "metadata": {},
   "source": [
    "Load pre-computed mean and standard deviation for scaling input images, and list of class IDs:"
   ]
  },
  {
   "cell_type": "code",
   "execution_count": 7,
   "metadata": {},
   "outputs": [
    {
     "data": {
      "text/plain": [
       "60"
      ]
     },
     "execution_count": 7,
     "metadata": {},
     "output_type": "execute_result"
    }
   ],
   "source": [
    "with open(f'weights/classification/{model_version}.json', mode='rt') as f:\n",
    "    dct = json.load(f)\n",
    "mean = np.array(dct['mean'])\n",
    "std = np.array(dct['std'])\n",
    "classes = dct['classes']\n",
    "len(classes)"
   ]
  },
  {
   "cell_type": "markdown",
   "metadata": {},
   "source": [
    "## Load and Pre-Process Images"
   ]
  },
  {
   "cell_type": "code",
   "execution_count": 8,
   "metadata": {},
   "outputs": [],
   "source": [
    "def resize(img: np.ndarray, size) -> np.ndarray:\n",
    "    factor = min(a / img.shape[i] for i, a in enumerate(size))\n",
    "    img = transform.rescale(img, scale=tuple([factor] * len(size)), mode='constant', cval=0.0, order=1,\n",
    "                            multichannel=True, anti_aliasing=True)\n",
    "    out = np.zeros((*size, img.shape[-1]), dtype=np.float32)\n",
    "    offset = tuple(np.math.floor((a - img.shape[i]) / 2) for i, a in enumerate(size))\n",
    "    out[offset[0]:(img.shape[0] + offset[0]), offset[1]:(img.shape[1] + offset[1])] = img\n",
    "    return out"
   ]
  },
  {
   "cell_type": "code",
   "execution_count": 9,
   "metadata": {},
   "outputs": [],
   "source": [
    "def preprocess_image(img: np.ndarray) -> np.ndarray:\n",
    "    # assumes that input pixel values are in [0, 255] range, and that `img` has shape `(height, width, 3)`\n",
    "    img = img - mean\n",
    "    img /= std\n",
    "    return resize(img, (48, 48))"
   ]
  },
  {
   "cell_type": "markdown",
   "metadata": {},
   "source": [
    "Load some image from the test set of ATSD-Signs and display it:"
   ]
  },
  {
   "cell_type": "code",
   "execution_count": 10,
   "metadata": {},
   "outputs": [
    {
     "data": {
      "image/png": "[encoded data removed]",
      "text/plain": [
       "<Figure size 432x288 with 1 Axes>"
      ]
     },
     "metadata": {
      "needs_background": "light"
     },
     "output_type": "display_data"
    }
   ],
   "source": [
    "img = imread(ROOT / 'test/01_01/11875.jpg')\n",
    "plt.imshow(img);"
   ]
  },
  {
   "cell_type": "markdown",
   "metadata": {},
   "source": [
    "Pre-process the image, i.e., resize it to 48$\\times$48 pixels and scaled pixel values:"
   ]
  },
  {
   "cell_type": "code",
   "execution_count": 11,
   "metadata": {},
   "outputs": [
    {
     "data": {
      "text/plain": [
       "(48, 48, 3)"
      ]
     },
     "execution_count": 11,
     "metadata": {},
     "output_type": "execute_result"
    }
   ],
   "source": [
    "img_pp = preprocess_image(img)\n",
    "img_pp.shape"
   ]
  },
  {
   "cell_type": "markdown",
   "metadata": {},
   "source": [
    "Apply the model and print the ID of the predicted class:"
   ]
  },
  {
   "cell_type": "code",
   "execution_count": 12,
   "metadata": {},
   "outputs": [
    {
     "data": {
      "text/plain": [
       "'01_01'"
      ]
     },
     "execution_count": 12,
     "metadata": {},
     "output_type": "execute_result"
    }
   ],
   "source": [
    "classes[np.argmax(model.predict(img_pp[np.newaxis]))]"
   ]
  },
  {
   "cell_type": "markdown",
   "metadata": {},
   "source": [
    "## Evaluate Classifier on ATSD-Signs"
   ]
  },
  {
   "cell_type": "code",
   "execution_count": 13,
   "metadata": {},
   "outputs": [],
   "source": [
    "def batch_iterate(root: Path, batch_size: int = 32):\n",
    "    xs = []\n",
    "    ys = []\n",
    "    for file in root.glob('**/*.jpg'):\n",
    "        xs.append(preprocess_image(imread(file)))\n",
    "        ys.append(classes.index(file.parent.stem))\n",
    "        if len(xs) == batch_size:\n",
    "            yield np.stack(xs, axis=0), ys\n",
    "            xs = []\n",
    "            ys = []\n",
    "    if xs:\n",
    "        yield np.stack(xs, axis=0), ys"
   ]
  },
  {
   "cell_type": "markdown",
   "metadata": {},
   "source": [
    "Iterate over data set and collect true labels and predictions:"
   ]
  },
  {
   "cell_type": "code",
   "execution_count": 14,
   "metadata": {},
   "outputs": [],
   "source": [
    "y_true = []\n",
    "y_hat = []\n",
    "for x, y in batch_iterate(ROOT / 'test'):\n",
    "    y_true += y\n",
    "    y_hat += np.argmax(model.predict(x), axis=1).tolist()"
   ]
  },
  {
   "cell_type": "markdown",
   "metadata": {},
   "source": [
    "Compute accuracy:"
   ]
  },
  {
   "cell_type": "code",
   "execution_count": 15,
   "metadata": {
    "scrolled": true
   },
   "outputs": [
    {
     "data": {
      "text/plain": [
       "0.9777262180974478"
      ]
     },
     "execution_count": 15,
     "metadata": {},
     "output_type": "execute_result"
    }
   ],
   "source": [
    "(np.array(y_true) == np.array(y_hat)).mean()"
   ]
  },
  {
   "cell_type": "code",
   "execution_count": null,
   "metadata": {},
   "outputs": [],
   "source": []
  }
 ],
 "metadata": {
  "kernelspec": {
   "display_name": "Python 3",
   "language": "python",
   "name": "python3"
  },
  "language_info": {
   "codemirror_mode": {
    "name": "ipython",
    "version": 3
   },
   "file_extension": ".py",
   "mimetype": "text/x-python",
   "name": "python",
   "nbconvert_exporter": "python",
   "pygments_lexer": "ipython3",
   "version": "3.7.7"
  }
 },
 "nbformat": 4,
 "nbformat_minor": 4
}
